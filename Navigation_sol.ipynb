{
 "cells": [
  {
   "cell_type": "code",
   "execution_count": 1,
   "id": "167afffd",
   "metadata": {},
   "outputs": [
    {
     "name": "stderr",
     "output_type": "stream",
     "text": [
      "INFO:unityagents:\n",
      "'Academy' started successfully!\n",
      "Unity Academy name: Academy\n",
      "        Number of Brains: 1\n",
      "        Number of External Brains : 1\n",
      "        Lesson number : 0\n",
      "        Reset Parameters :\n",
      "\t\t\n",
      "Unity brain name: BananaBrain\n",
      "        Number of Visual Observations (per agent): 0\n",
      "        Vector Observation space type: continuous\n",
      "        Vector Observation space size (per agent): 37\n",
      "        Number of stacked Vector Observation: 1\n",
      "        Vector Action space type: discrete\n",
      "        Vector Action space size (per agent): 4\n",
      "        Vector Action descriptions: , , , \n"
     ]
    }
   ],
   "source": [
    "from unityagents import UnityEnvironment\n",
    "env = UnityEnvironment(file_name=\"./Banana_Linux/Banana.x86_64\")\n",
    "#env = UnityEnvironment(file_name=\"./Banana_Linux_NoVis/Banana.x86_64\")"
   ]
  },
  {
   "cell_type": "code",
   "execution_count": 2,
   "id": "5ecde598",
   "metadata": {},
   "outputs": [
    {
     "name": "stdout",
     "output_type": "stream",
     "text": [
      "Number of agents: 1\n"
     ]
    }
   ],
   "source": [
    "# get the default brain\n",
    "brain_name = env.brain_names[0]\n",
    "brain = env.brains[brain_name]\n",
    "# reset the environment\n",
    "env_info = env.reset(train_mode=True)[brain_name]\n",
    "\n",
    "# number of agents in the environmentll\n",
    "print('Number of agents:', len(env_info.agents))\n"
   ]
  },
  {
   "cell_type": "code",
   "execution_count": 3,
   "id": "9e043343",
   "metadata": {},
   "outputs": [
    {
     "name": "stdout",
     "output_type": "stream",
     "text": [
      "Number of actions: 4\n",
      "States look like: [1.         0.         0.         0.         0.84408134 0.\n",
      " 0.         1.         0.         0.0748472  0.         1.\n",
      " 0.         0.         0.25755    1.         0.         0.\n",
      " 0.         0.74177343 0.         1.         0.         0.\n",
      " 0.25854847 0.         0.         1.         0.         0.09355672\n",
      " 0.         1.         0.         0.         0.31969345 0.\n",
      " 0.        ]\n",
      "States have length: 37\n"
     ]
    }
   ],
   "source": [
    "# number of actions\n",
    "action_size = brain.vector_action_space_size\n",
    "print('Number of actions:', action_size)\n",
    "\n",
    "# examine the state space \n",
    "state = env_info.vector_observations[0]\n",
    "print('States look like:', state)\n",
    "state_size = len(state)\n",
    "print('States have length:', state_size)"
   ]
  },
  {
   "cell_type": "markdown",
   "id": "f7d63f45",
   "metadata": {},
   "source": [
    "### Deep Q-Learning Implementation"
   ]
  },
  {
   "cell_type": "code",
   "execution_count": 4,
   "id": "be2e1d24",
   "metadata": {},
   "outputs": [
    {
     "name": "stdout",
     "output_type": "stream",
     "text": [
      "Episode 10\tAverage Score: -0.30\n",
      "Episode 20\tAverage Score: -0.20\n",
      "Episode 30\tAverage Score: -0.17\n",
      "Episode 40\tAverage Score: 0.073\n",
      "Episode 50\tAverage Score: 0.36\n",
      "Episode 60\tAverage Score: 0.42\n",
      "Episode 70\tAverage Score: 0.61\n",
      "Episode 80\tAverage Score: 0.85\n",
      "Episode 90\tAverage Score: 1.00\n",
      "Episode 100\tAverage Score: 1.13\n",
      "Episode 110\tAverage Score: 1.44\n",
      "Episode 120\tAverage Score: 1.80\n",
      "Episode 130\tAverage Score: 2.23\n",
      "Episode 140\tAverage Score: 2.55\n",
      "Episode 150\tAverage Score: 2.85\n",
      "Episode 160\tAverage Score: 3.25\n",
      "Episode 170\tAverage Score: 3.68\n",
      "Episode 180\tAverage Score: 3.97\n",
      "Episode 190\tAverage Score: 4.42\n",
      "Episode 200\tAverage Score: 4.87\n",
      "Episode 210\tAverage Score: 5.21\n",
      "Episode 220\tAverage Score: 5.65\n",
      "Episode 230\tAverage Score: 6.02\n",
      "Episode 240\tAverage Score: 6.44\n",
      "Episode 250\tAverage Score: 6.78\n",
      "Episode 260\tAverage Score: 7.18\n",
      "Episode 270\tAverage Score: 7.41\n",
      "Episode 280\tAverage Score: 7.71\n",
      "Episode 290\tAverage Score: 7.83\n",
      "Episode 300\tAverage Score: 8.11\n",
      "Episode 310\tAverage Score: 8.30\n",
      "Episode 320\tAverage Score: 8.36\n",
      "Episode 330\tAverage Score: 8.33\n",
      "Episode 340\tAverage Score: 8.21\n",
      "Episode 350\tAverage Score: 8.35\n",
      "Episode 360\tAverage Score: 8.28\n",
      "Episode 370\tAverage Score: 8.00\n",
      "Episode 380\tAverage Score: 7.93\n",
      "Episode 390\tAverage Score: 8.07\n",
      "Episode 400\tAverage Score: 8.12\n",
      "Episode 410\tAverage Score: 8.38\n",
      "Episode 420\tAverage Score: 8.59\n",
      "Episode 430\tAverage Score: 8.53\n",
      "Episode 440\tAverage Score: 8.80\n",
      "Episode 450\tAverage Score: 8.73\n",
      "Episode 460\tAverage Score: 8.71\n",
      "Episode 470\tAverage Score: 9.26\n",
      "Episode 480\tAverage Score: 9.62\n",
      "Episode 490\tAverage Score: 9.83\n",
      "Episode 500\tAverage Score: 9.84\n",
      "Episode 510\tAverage Score: 9.963\n",
      "Episode 520\tAverage Score: 10.30\n",
      "Episode 530\tAverage Score: 10.74\n",
      "Episode 540\tAverage Score: 11.18\n",
      "Episode 550\tAverage Score: 11.53\n",
      "Episode 560\tAverage Score: 12.00\n",
      "Episode 570\tAverage Score: 12.07\n",
      "Episode 580\tAverage Score: 12.10\n",
      "Episode 590\tAverage Score: 12.16\n",
      "Episode 600\tAverage Score: 12.36\n",
      "Episode 610\tAverage Score: 12.51\n",
      "Episode 620\tAverage Score: 12.42\n",
      "Episode 630\tAverage Score: 12.72\n",
      "Episode 640\tAverage Score: 12.36\n",
      "Episode 650\tAverage Score: 12.20\n",
      "Episode 660\tAverage Score: 11.91\n",
      "Episode 670\tAverage Score: 11.98\n",
      "Episode 680\tAverage Score: 11.75\n",
      "Episode 690\tAverage Score: 11.79\n",
      "Episode 700\tAverage Score: 12.05\n",
      "Episode 710\tAverage Score: 12.16\n",
      "Episode 720\tAverage Score: 12.39\n",
      "Episode 730\tAverage Score: 12.17\n",
      "Episode 740\tAverage Score: 12.35\n",
      "Episode 750\tAverage Score: 13.02\n",
      "\n",
      "Environment solved in 750 episodes!\tAverage Score: 13.02\n"
     ]
    }
   ],
   "source": [
    "from dqn_agent import Agent\n",
    "from collections import deque\n",
    "import torch\n",
    "import numpy as np\n",
    " \n",
    "# Hyperparameters\n",
    "BUFFER_SIZE = 10000  # replay buffer size\n",
    "BATCH_SIZE = 64       # minibatch size\n",
    "GAMMA = 0.99          # discount factor\n",
    "TAU = 1e-3           # for soft update of target parameters\n",
    "LR = 1e-4            # learning rate    \n",
    "UPDATE_EVERY = 1     # how often to update the network\n",
    "\n",
    "# Initialize agent\n",
    "seed = 0\n",
    "agent = Agent(state_size, action_size, BUFFER_SIZE, BATCH_SIZE, LR, GAMMA, TAU, UPDATE_EVERY, seed)\n",
    "\n",
    "# Initialize other parameters\n",
    "T = 1000                            # maximum number of time steps per episode\n",
    "scores = []                        # list containing scores from each episode\n",
    "scores_window = deque(maxlen=100)  # last 100 scores\n",
    "mean_scores = []                # list containing mean scores from each episode\n",
    "eps = 1.0                          # initialize epsilon\n",
    "eps_end = 0.01                    # minimum epsilon\n",
    "eps_decay = 0.995                 # decay rate for epsilon\n",
    "\n",
    "num_episodes = 2000\n",
    "\n",
    "# Loop over episodes\n",
    "for i_episode in range(1, num_episodes+1):\n",
    "    env_info = env.reset(train_mode=True)[brain_name] # reset the environment\n",
    "    state = env_info.vector_observations[0]\n",
    "    score = 0 \n",
    "    for t in range(T):\n",
    "        # Select action a_j using epsilon-greedy policy\n",
    "        action = agent.act(state, eps)\n",
    "        \n",
    "        # Execute action and observe reward and next state\n",
    "        env_info = env.step(action)[brain_name]\n",
    "        next_state = env_info.vector_observations[0]\n",
    "        reward = env_info.rewards[0]\n",
    "        done = env_info.local_done[0]\n",
    "\n",
    "        # Store experience in replay memory D, learn if enough samples are available\n",
    "        agent.step(state, action, reward, next_state, done)\n",
    "\n",
    "        state = next_state\n",
    "        score += reward\n",
    "        if done:\n",
    "            break \n",
    "\n",
    "    # Save the score and update the scores window\n",
    "    scores_window.append(score)       # save most recent score\n",
    "    scores.append(score)              # save most recent score\n",
    "    mean_scores.append(np.mean(scores_window))  # save mean score\n",
    "    \n",
    "    # Update epsilon\n",
    "    eps = max(eps_end, eps_decay*eps)\n",
    "\n",
    "    print(f'\\rEpisode {i_episode}\\tAverage Score: {np.mean(scores_window):.2f}', end=\"\")\n",
    "    if i_episode % 10 == 0:\n",
    "        print(f'\\rEpisode {i_episode}\\tAverage Score: {np.mean(scores_window):.2f}')\n",
    "\n",
    "    if np.mean(scores_window) >= 13.0:  # Check if average score is above threshold\n",
    "        print(f'\\nEnvironment solved in {i_episode} episodes!\\tAverage Score: {np.mean(scores_window):.2f}')\n",
    "        torch.save(agent.qnetwork_local.state_dict(), 'checkpoint.pth')\n",
    "        break\n"
   ]
  },
  {
   "cell_type": "code",
   "execution_count": null,
   "id": "fb965301",
   "metadata": {},
   "outputs": [
    {
     "name": "stdout",
     "output_type": "stream",
     "text": [
      "[0.0, 0.0, 0.0, 1.0, 0.0, -1.0, -2.0, 0.0, 0.0, -1.0, 0.0, -2.0, -2.0, 0.0, 1.0, -2.0, 0.0, 3.0, 1.0, 0.0, 0.0, 1.0, -1.0, 1.0, -1.0, -1.0, -1.0, 1.0, 1.0, -1.0, 2.0, 1.0, 0.0, 1.0, 0.0, 2.0, 1.0, 0.0, 0.0, 1.0, 2.0, 1.0, 3.0, 1.0, 0.0, 2.0, 1.0, 1.0, 1.0, 3.0, 0.0, -1.0, 1.0, 1.0, 0.0, 2.0, 0.0, -1.0, 3.0, 2.0, 3.0, 1.0, 1.0, 1.0, 1.0, 4.0, 0.0, 2.0, 0.0, 5.0, 4.0, 0.0, 2.0, 8.0, 2.0, 2.0, 0.0, 1.0, 0.0, 6.0, 3.0, 0.0, 2.0, -1.0, 1.0, 5.0, -2.0, 5.0, 4.0, 5.0, 1.0, 4.0, 1.0, 1.0, 1.0, 1.0, 1.0, 4.0, 5.0, 4.0, 4.0, 2.0, 3.0, 2.0, 2.0, 3.0, 2.0, 4.0, 2.0, 4.0, 3.0, 5.0, 3.0, 2.0, 6.0, 3.0, 5.0, 5.0, 0.0, 3.0, 3.0, 4.0, 6.0, 4.0, 0.0, 4.0, 7.0, 3.0, 8.0, 3.0, 4.0, 0.0, 5.0, 1.0, 3.0, 5.0, 2.0, 3.0, 10.0, 7.0, 5.0, 5.0, 3.0, 5.0, 2.0, 7.0, 4.0, 6.0, 3.0, 5.0, 2.0, 5.0, 6.0, 5.0, 5.0, 7.0, 4.0, 5.0, 2.0, 6.0, 4.0, 5.0, 3.0, 9.0, 12.0, 6.0, 3.0, 8.0, 1.0, 10.0, 4.0, 9.0, 4.0, 1.0, 7.0, 7.0, 8.0, 6.0, 1.0, 7.0, 3.0, 6.0, 6.0, 6.0, 10.0, 0.0, 4.0, 8.0, 10.0, 14.0, 10.0, 7.0, 10.0, 5.0, 3.0, 11.0, 9.0, 1.0, 8.0, 4.0, 2.0, 7.0, 5.0, 8.0, 3.0, 8.0, 9.0, 6.0, 4.0, 10.0, 7.0, 7.0, 5.0, 10.0, 13.0, 6.0, 13.0, 6.0, 6.0, 6.0, 6.0, 10.0, 6.0, 6.0, 12.0, 11.0, 6.0, 11.0, 5.0, 6.0, 5.0, 9.0, 6.0, 9.0, 9.0, 7.0, 7.0, 11.0, 12.0, 7.0, 7.0, 6.0, 9.0, 9.0, 8.0, 10.0, 6.0, 11.0, 4.0, 9.0, 11.0, 10.0, 9.0, 12.0, 11.0, 11.0, 6.0, 2.0, 8.0, 7.0, 7.0, 10.0, 11.0, 10.0, 9.0, 7.0, 7.0, 9.0, 6.0, 8.0, 10.0, 10.0, 8.0, 11.0, 9.0, 7.0, 5.0, 8.0, 9.0, 7.0, 4.0, 11.0, 2.0, 10.0, 11.0, 5.0, 10.0, 13.0, 6.0, 7.0, 13.0, 6.0, 17.0, 11.0, 9.0, 5.0, 13.0, 10.0, 8.0, 4.0, 10.0, 5.0, 5.0, 7.0, 12.0, 6.0, 11.0, 9.0, 9.0, 7.0, 4.0, 4.0, 6.0, 9.0, 12.0, 9.0, 8.0, 12.0, 13.0, 8.0, 10.0, 9.0, 7.0, 13.0, 9.0, 6.0, 4.0, 10.0, 3.0, 5.0, 7.0, 4.0, 7.0, 5.0, 8.0, 7.0, 8.0, 7.0, 8.0, 9.0, 6.0, 5.0, 11.0, 10.0, 7.0, 8.0, 12.0, 10.0, 14.0, 10.0, 11.0, 6.0, 11.0, 5.0, 11.0, 7.0, 8.0, 12.0, 2.0, 7.0, 6.0, 6.0, 5.0, 5.0, 4.0, 7.0, 4.0, 13.0, 2.0, 4.0, 6.0, 14.0, 7.0, 1.0, 8.0, 6.0, 10.0, 5.0, 9.0, 11.0, 13.0, 3.0, 7.0, 12.0, 8.0, 10.0, 8.0, 12.0, 11.0, 9.0, 7.0, 11.0, 13.0, 6.0, 13.0, 11.0, 13.0, 9.0, 10.0, 8.0, 14.0, 12.0, 7.0, 11.0, 6.0, 9.0, 15.0, 8.0, 12.0, 13.0, 12.0, 12.0, 12.0, 10.0, 13.0, 6.0, 15.0, 11.0, 4.0, 11.0, 10.0, 7.0, 7.0, 8.0, 8.0, 7.0, 8.0, 3.0, 5.0, 7.0, 12.0, 14.0, 9.0, 14.0, 10.0, 12.0, 10.0, 6.0, 7.0, 3.0, 15.0, 2.0, 12.0, 4.0, 8.0, 10.0, 4.0, 12.0, 13.0, 6.0, 14.0, 11.0, 8.0, 1.0, 5.0, 7.0, 7.0, 8.0, 6.0, 11.0, 11.0, 13.0, 17.0, 6.0, 5.0, 11.0, 11.0, 15.0, 12.0, 10.0, 18.0, 5.0, 15.0, 3.0, 14.0, 14.0, 12.0, 12.0, 6.0, 14.0, 14.0, 13.0, 10.0, 13.0, 6.0, 10.0, 14.0, 9.0, 13.0, 12.0, 11.0, 10.0, 10.0, 14.0, 12.0, 16.0, 12.0, 9.0, -1.0, 9.0, 15.0, 15.0, 9.0, 13.0, 11.0, 16.0, 13.0, 9.0, 7.0, 11.0, 11.0, 11.0, 10.0, 12.0, 13.0, 20.0, 14.0, 15.0, 19.0, 15.0, 9.0, 14.0, 4.0, 12.0, 14.0, 11.0, 14.0, 12.0, 9.0, 15.0, 17.0, 14.0, 14.0, 19.0, 10.0, 16.0, 11.0, 13.0, 12.0, 15.0, 3.0, 11.0, 12.0, 13.0, 15.0, 14.0, 12.0, 14.0, 14.0, 13.0, 14.0, 19.0, 10.0, 15.0, 12.0, 4.0, 11.0, 12.0, 11.0, 17.0, 13.0, 13.0, 14.0, 8.0, 10.0, 11.0, 12.0, 10.0, 16.0, 11.0, 12.0, 8.0, 14.0, 16.0, 14.0, 10.0, 10.0, 8.0, 10.0, 14.0, 10.0, 17.0, 12.0, 11.0, 9.0, 10.0, 15.0, 11.0, 9.0, 16.0, 13.0, 15.0, 11.0, 14.0, 6.0, 13.0, 8.0, 10.0, 18.0, 14.0, 10.0, 20.0, 16.0, 13.0, 6.0, 14.0, 15.0, 17.0, 11.0, 12.0, 9.0, 13.0, 16.0, 19.0, 11.0, 12.0, 13.0, 14.0, 13.0, 11.0, 12.0, 15.0, 17.0, 17.0, 18.0, 13.0, 11.0, 16.0, 8.0, 17.0, 14.0, 14.0, 6.0, 11.0, 6.0, 6.0, 14.0, 12.0, 14.0, 8.0, 6.0, 16.0, 9.0, 11.0, 9.0, 11.0, 9.0, 13.0, 10.0, 11.0, 16.0, 4.0, 6.0, 7.0, 8.0, 10.0, 11.0, 12.0, 14.0, 8.0, 11.0, 15.0, 18.0, 17.0, 10.0, 11.0, 10.0, 11.0, 8.0, 14.0, 11.0, 1.0, 8.0, 7.0, 7.0, 9.0, 12.0, 8.0, 11.0, 19.0, 12.0, 14.0, 6.0, 9.0, 13.0, 17.0, 10.0, 18.0, 14.0, 11.0, 15.0, 16.0, 12.0, 12.0, 14.0, 13.0, 10.0, 23.0, 19.0, 14.0, 11.0, 18.0, 15.0, 13.0, 12.0, 15.0, 14.0, 18.0, 16.0, 13.0, 20.0, 15.0, 17.0, 15.0, 10.0, 12.0, 13.0, 19.0, 20.0, 13.0, 13.0, 21.0, 6.0, 9.0, 13.0, 6.0, 14.0, 8.0, 17.0, 15.0, 7.0, 5.0, 13.0, 19.0, 13.0, 12.0, 17.0, 14.0, 11.0, 12.0, 17.0, 17.0, 19.0, 15.0, 22.0, 21.0, 12.0, 12.0, 18.0, 19.0]\n"
     ]
    },
    {
     "data": {
      "image/png": "[encoded data removed]",
      "text/plain": [
       "<Figure size 432x288 with 2 Axes>"
      ]
     },
     "metadata": {
      "needs_background": "light"
     },
     "output_type": "display_data"
    }
   ],
   "source": [
    "import matplotlib.pyplot as plt\n",
    "import json\n",
    "# plot the scores\n",
    "fig = plt.figure()\n",
    "ax = fig.add_subplot(211)\n",
    "plt.plot(np.arange(len(scores)), scores)\n",
    "plt.ylabel('Score')\n",
    "plt.xlabel('Episode #')\n",
    "fig.add_subplot(212)\n",
    "plt.plot(np.arange(len(mean_scores)), mean_scores)\n",
    "plt.ylabel('Mean Score')\n",
    "plt.xlabel('Episode #')\n",
    "plt.show()\n",
    "\n",
    "\n",
    "# Save the scores and parameters to a JSON file\n",
    "data = {\n",
    "    'BUFFER_SIZE': BUFFER_SIZE,\n",
    "    'BATCH_SIZE': BATCH_SIZE,\n",
    "    'GAMMA': GAMMA,\n",
    "    'TAU': TAU,\n",
    "    'LR': LR,\n",
    "    'scores': scores,\n",
    "    'mean_scores': mean_scores\n",
    "}\n",
    "\n",
    "with open('training_scores.json', 'w') as f:\n",
    "    json.dump(data, f)\n"
   ]
  },
  {
   "cell_type": "code",
   "execution_count": 6,
   "id": "d68b95da",
   "metadata": {},
   "outputs": [],
   "source": [
    "env.close()"
   ]
  }
 ],
 "metadata": {
  "kernelspec": {
   "display_name": "drlnd-p1",
   "language": "python",
   "name": "python3"
  },
  "language_info": {
   "codemirror_mode": {
    "name": "ipython",
    "version": 3
   },
   "file_extension": ".py",
   "mimetype": "text/x-python",
   "name": "python",
   "nbconvert_exporter": "python",
   "pygments_lexer": "ipython3",
   "version": "3.6.13"
  }
 },
 "nbformat": 4,
 "nbformat_minor": 5
}

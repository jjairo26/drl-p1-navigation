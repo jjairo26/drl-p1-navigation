{
 "cells": [
  {
   "cell_type": "code",
   "execution_count": null,
   "id": "167afffd",
   "metadata": {},
   "outputs": [],
   "source": [
    "from unityagents import UnityEnvironment\n",
    "env = UnityEnvironment(file_name=\"./Banana_Linux/Banana.x86_64\")"
   ]
  },
  {
   "cell_type": "code",
   "execution_count": null,
   "id": "5ecde598",
   "metadata": {},
   "outputs": [],
   "source": [
    "# get the default brain\n",
    "brain_name = env.brain_names[0]\n",
    "brain = env.brains[brain_name]\n",
    "# reset the environment\n",
    "env_info = env.reset(train_mode=True)[brain_name]\n",
    "\n",
    "# number of agents in the environmentll\n",
    "print('Number of agents:', len(env_info.agents))\n",
    "\n",
    "# number of actions\n",
    "action_size = brain.vector_action_space_size\n",
    "print('Number of actions:', action_size)\n",
    "\n",
    "# examine the state space \n",
    "state = env_info.vector_observations[0]\n",
    "print('States look like:', state)\n",
    "state_size = len(state)\n",
    "print('States have length:', state_size)\n"
   ]
  },
  {
   "cell_type": "markdown",
   "id": "f7d63f45",
   "metadata": {},
   "source": [
    "### Deep Q-Learning Implementation"
   ]
  },
  {
   "cell_type": "code",
   "execution_count": null,
   "id": "be2e1d24",
   "metadata": {},
   "outputs": [],
   "source": [
    "from dqn_agent import Agent\n",
    "from collections import deque\n",
    "import torch\n",
    "import numpy as np\n",
    " \n",
    "# Hyperparameters\n",
    "BUFFER_SIZE = 10000  # replay buffer size\n",
    "BATCH_SIZE = 64       # minibatch size\n",
    "GAMMA = 0.99          # discount factor\n",
    "TAU = 1e-3           # for soft update of target parameters\n",
    "LR = 1e-4            # learning rate    \n",
    "UPDATE_EVERY = 1     # how often to update the network\n",
    "\n",
    "# Initialize agent\n",
    "seed = 0\n",
    "agent = Agent(state_size, action_size, BUFFER_SIZE, BATCH_SIZE, LR, GAMMA, TAU, UPDATE_EVERY, seed)\n",
    "\n",
    "# Initialize other parameters\n",
    "T = 1000                            # maximum number of time steps per episode\n",
    "scores = []                        # list containing scores from each episode\n",
    "scores_window = deque(maxlen=100)  # last 100 scores\n",
    "mean_scores = []                # list containing mean scores from each episode\n",
    "eps = 1.0                          # initialize epsilon\n",
    "eps_end = 0.01                    # minimum epsilon\n",
    "eps_decay = 0.995                 # decay rate for epsilon\n",
    "\n",
    "num_episodes = 2000\n",
    "\n",
    "# Loop over episodes\n",
    "for i_episode in range(1, num_episodes+1):\n",
    "    env_info = env.reset(train_mode=True)[brain_name] # reset the environment\n",
    "    state = env_info.vector_observations[0]\n",
    "    score = 0 \n",
    "    for t in range(T):\n",
    "        # Select action a_j using epsilon-greedy policy\n",
    "        action = agent.act(state, eps)\n",
    "        \n",
    "        # Execute action and observe reward and next state\n",
    "        env_info = env.step(action)[brain_name]\n",
    "        next_state = env_info.vector_observations[0]\n",
    "        reward = env_info.rewards[0]\n",
    "        done = env_info.local_done[0]\n",
    "\n",
    "        # Store experience in replay memory D, learn if enough samples are available\n",
    "        agent.step(state, action, reward, next_state, done)\n",
    "\n",
    "        state = next_state\n",
    "        score += reward\n",
    "        if done:\n",
    "            break \n",
    "\n",
    "    # Save the score and update the scores window\n",
    "    scores_window.append(score)       # save most recent score\n",
    "    scores.append(score)              # save most recent score\n",
    "    mean_scores.append(np.mean(scores_window))  # save mean score\n",
    "    \n",
    "    # Update epsilon\n",
    "    eps = max(eps_end, eps_decay*eps)\n",
    "\n",
    "    print(f'\\rEpisode {i_episode}\\tAverage Score: {np.mean(scores_window):.2f}', end=\"\")\n",
    "    if i_episode % 10 == 0:\n",
    "        print(f'\\rEpisode {i_episode}\\tAverage Score: {np.mean(scores_window):.2f}')\n",
    "\n",
    "    if np.mean(scores_window) >= 13.0:  # Check if average score is above threshold\n",
    "        print(f'\\nEnvironment solved in {i_episode} episodes!\\tAverage Score: {np.mean(scores_window):.2f}')\n",
    "        torch.save(agent.qnetwork_local.state_dict(), 'checkpoint.pth')\n",
    "        break\n"
   ]
  },
  {
   "cell_type": "code",
   "execution_count": null,
   "id": "fb965301",
   "metadata": {},
   "outputs": [],
   "source": [
    "env.close()"
   ]
  },
  {
   "cell_type": "code",
   "execution_count": null,
   "id": "9686632b",
   "metadata": {},
   "outputs": [],
   "source": [
    "import matplotlib.pyplot as plt\n",
    "import json\n",
    "import numpy as np\n",
    "# plot the scores\n",
    "fig = plt.figure()\n",
    "ax = fig.add_subplot(211)\n",
    "plt.plot(np.arange(len(scores)), scores)\n",
    "plt.ylabel('Score')\n",
    "plt.xlabel('Episode #')\n",
    "fig.add_subplot(212)\n",
    "plt.plot(np.arange(len(mean_scores)), mean_scores)\n",
    "plt.ylabel('Mean Score')\n",
    "plt.xlabel('Episode #')\n",
    "plt.show()"
   ]
  },
  {
   "cell_type": "code",
   "execution_count": null,
   "id": "d68b95da",
   "metadata": {},
   "outputs": [],
   "source": [
    "# Save the scores and parameters to a JSON file\n",
    "data = {\n",
    "    'BUFFER_SIZE': BUFFER_SIZE,\n",
    "    'BATCH_SIZE': BATCH_SIZE,\n",
    "    'GAMMA': GAMMA,\n",
    "    'TAU': TAU,\n",
    "    'LR': LR,\n",
    "    'scores': scores,\n",
    "    'mean_scores': mean_scores\n",
    "}\n",
    "\n",
    "with open('training_scores.json', 'w') as f:\n",
    "    json.dump(data, f)"
   ]
  }
 ],
 "metadata": {
  "kernelspec": {
   "display_name": "drlnd-p1",
   "language": "python",
   "name": "python3"
  },
  "language_info": {
   "codemirror_mode": {
    "name": "ipython",
    "version": 3
   },
   "file_extension": ".py",
   "mimetype": "text/x-python",
   "name": "python",
   "nbconvert_exporter": "python",
   "pygments_lexer": "ipython3",
   "version": "3.6.13"
  }
 },
 "nbformat": 4,
 "nbformat_minor": 5
}

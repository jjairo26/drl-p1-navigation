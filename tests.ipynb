{
 "cells": [
  {
   "cell_type": "code",
   "execution_count": null,
   "id": "9648c8ec",
   "metadata": {},
   "outputs": [
    {
     "name": "stdout",
     "output_type": "stream",
     "text": [
      "[([0.1, 0.1, 0.1], 1, 1.0, [0.2, 0.2, 0.2], False), ([0.3, 0.3, 0.3], 1, 1.0, [0.4, 0.4, 0.4], False)]\n",
      "3\n"
     ]
    }
   ],
   "source": [
    "from ReplayBuffer import ReplayBuffer\n",
    "\n",
    "rb = ReplayBuffer(buffer_size=3, batch_size=2)"
   ]
  }
 ],
 "metadata": {
  "kernelspec": {
   "display_name": "drlnd-p1",
   "language": "python",
   "name": "python3"
  },
  "language_info": {
   "codemirror_mode": {
    "name": "ipython",
    "version": 3
   },
   "file_extension": ".py",
   "mimetype": "text/x-python",
   "name": "python",
   "nbconvert_exporter": "python",
   "pygments_lexer": "ipython3",
   "version": "3.6.13"
  }
 },
 "nbformat": 4,
 "nbformat_minor": 5
}
